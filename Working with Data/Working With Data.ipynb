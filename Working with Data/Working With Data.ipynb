{
 "cells": [
  {
   "cell_type": "markdown",
   "metadata": {},
   "source": [
    "Import numpy and pandas above the matplotlib lines."
   ]
  },
  {
   "cell_type": "code",
   "execution_count": 91,
   "metadata": {},
   "outputs": [],
   "source": [
    "import numpy as np\n",
    "import pandas as pd\n",
    "import matplotlib.pyplot as plt\n",
    "%matplotlib inline"
   ]
  },
  {
   "cell_type": "markdown",
   "metadata": {},
   "source": [
    "Import the \"sin_cos.csv\" file into a pandas DataFrame called df.<br>\n",
    "Set the index to the first column. Use shift-tab for help if necessary.<br>\n",
    "Display df."
   ]
  },
  {
   "cell_type": "code",
   "execution_count": 92,
   "metadata": {},
   "outputs": [
    {
     "data": {
      "text/html": [
       "<div>\n",
       "<style scoped>\n",
       "    .dataframe tbody tr th:only-of-type {\n",
       "        vertical-align: middle;\n",
       "    }\n",
       "\n",
       "    .dataframe tbody tr th {\n",
       "        vertical-align: top;\n",
       "    }\n",
       "\n",
       "    .dataframe thead th {\n",
       "        text-align: right;\n",
       "    }\n",
       "</style>\n",
       "<table border=\"1\" class=\"dataframe\">\n",
       "  <thead>\n",
       "    <tr style=\"text-align: right;\">\n",
       "      <th></th>\n",
       "      <th>x</th>\n",
       "      <th>y</th>\n",
       "      <th>z</th>\n",
       "    </tr>\n",
       "  </thead>\n",
       "  <tbody>\n",
       "    <tr>\n",
       "      <th>0</th>\n",
       "      <td>NaN</td>\n",
       "      <td>0.000000</td>\n",
       "      <td>1.000000</td>\n",
       "    </tr>\n",
       "    <tr>\n",
       "      <th>1</th>\n",
       "      <td>0.006289</td>\n",
       "      <td>0.006289</td>\n",
       "      <td>NaN</td>\n",
       "    </tr>\n",
       "    <tr>\n",
       "      <th>2</th>\n",
       "      <td>0.012579</td>\n",
       "      <td>0.012579</td>\n",
       "      <td>0.999921</td>\n",
       "    </tr>\n",
       "    <tr>\n",
       "      <th>3</th>\n",
       "      <td>0.018868</td>\n",
       "      <td>NaN</td>\n",
       "      <td>0.999822</td>\n",
       "    </tr>\n",
       "    <tr>\n",
       "      <th>4</th>\n",
       "      <td>NaN</td>\n",
       "      <td>0.025155</td>\n",
       "      <td>0.999684</td>\n",
       "    </tr>\n",
       "    <tr>\n",
       "      <th>...</th>\n",
       "      <td>...</td>\n",
       "      <td>...</td>\n",
       "      <td>...</td>\n",
       "    </tr>\n",
       "    <tr>\n",
       "      <th>995</th>\n",
       "      <td>6.258027</td>\n",
       "      <td>-0.025155</td>\n",
       "      <td>NaN</td>\n",
       "    </tr>\n",
       "    <tr>\n",
       "      <th>996</th>\n",
       "      <td>6.264317</td>\n",
       "      <td>-0.018867</td>\n",
       "      <td>0.999822</td>\n",
       "    </tr>\n",
       "    <tr>\n",
       "      <th>997</th>\n",
       "      <td>6.270606</td>\n",
       "      <td>-0.012579</td>\n",
       "      <td>0.999921</td>\n",
       "    </tr>\n",
       "    <tr>\n",
       "      <th>998</th>\n",
       "      <td>6.276896</td>\n",
       "      <td>-0.006289</td>\n",
       "      <td>0.999980</td>\n",
       "    </tr>\n",
       "    <tr>\n",
       "      <th>999</th>\n",
       "      <td>6.283185</td>\n",
       "      <td>-0.000000</td>\n",
       "      <td>1.000000</td>\n",
       "    </tr>\n",
       "  </tbody>\n",
       "</table>\n",
       "<p>1000 rows × 3 columns</p>\n",
       "</div>"
      ],
      "text/plain": [
       "            x         y         z\n",
       "0         NaN  0.000000  1.000000\n",
       "1    0.006289  0.006289       NaN\n",
       "2    0.012579  0.012579  0.999921\n",
       "3    0.018868       NaN  0.999822\n",
       "4         NaN  0.025155  0.999684\n",
       "..        ...       ...       ...\n",
       "995  6.258027 -0.025155       NaN\n",
       "996  6.264317 -0.018867  0.999822\n",
       "997  6.270606 -0.012579  0.999921\n",
       "998  6.276896 -0.006289  0.999980\n",
       "999  6.283185 -0.000000  1.000000\n",
       "\n",
       "[1000 rows x 3 columns]"
      ]
     },
     "execution_count": 92,
     "metadata": {},
     "output_type": "execute_result"
    }
   ],
   "source": [
    "df = pd.read_csv(\"/Users/chetan/opt/anaconda3/bin/sin_cos.csv\", index_col=0)\n",
    "df = df.round(6)\n",
    "df"
   ]
  },
  {
   "cell_type": "markdown",
   "metadata": {},
   "source": [
    "Notice there are gaps in the data. Let's visualize this.<br>\n",
    "Just run the cell below."
   ]
  },
  {
   "cell_type": "code",
   "execution_count": 93,
   "metadata": {},
   "outputs": [
    {
     "data": {
      "text/plain": [
       "<matplotlib.legend.Legend at 0x7f84c48e2ca0>"
      ]
     },
     "execution_count": 93,
     "metadata": {},
     "output_type": "execute_result"
    },
    {
     "data": {
      "image/png": "[encoded data removed]",
      "text/plain": [
       "<Figure size 432x288 with 1 Axes>"
      ]
     },
     "metadata": {
      "needs_background": "light"
     },
     "output_type": "display_data"
    }
   ],
   "source": [
    "# plot the data to see the gaps\n",
    "plt.plot(df[\"x\"],df[\"y\"],color=\"b\")\n",
    "plt.plot(df[\"x\"],df[\"z\"],color=\"r\")\n",
    "plt.xlabel(\"Pi\")\n",
    "plt.ylabel(\"Sin & Cos\")\n",
    "plt.title(\"Missing Data\")\n",
    "plt.legend([\"Sin\",\"Cos\"])"
   ]
  },
  {
   "cell_type": "markdown",
   "metadata": {},
   "source": [
    "Use one of the pandas methods to fill in the missing data.<br>\n",
    "You could fill in a default value, fill in a mean, or do simple interpolation.<br>\n",
    "You can do some web searching on different ways to fill in missing data in pandas.<br>\n",
    "https://pandas.pydata.org/pandas-docs/stable/user_guide/missing_data.html#interpolation<br>\n",
    "Call the new DataFrame: dfi."
   ]
  },
  {
   "cell_type": "code",
   "execution_count": 94,
   "metadata": {},
   "outputs": [],
   "source": [
    "dfi = df.interpolate()"
   ]
  },
  {
   "cell_type": "markdown",
   "metadata": {},
   "source": [
    "Let's visualize your new DataFrame with the nulls filled in. Run the cell below.<br>\n",
    "Feel free to try filling in the missing data a few different ways and seeing what the plot looks like.<br>\n",
    "Choose the one that looks best."
   ]
  },
  {
   "cell_type": "code",
   "execution_count": 95,
   "metadata": {},
   "outputs": [
    {
     "data": {
      "text/plain": [
       "<matplotlib.legend.Legend at 0x7f84c85a78b0>"
      ]
     },
     "execution_count": 95,
     "metadata": {},
     "output_type": "execute_result"
    },
    {
     "data": {
      "image/png": "[encoded data removed]",
      "text/plain": [
       "<Figure size 432x288 with 1 Axes>"
      ]
     },
     "metadata": {
      "needs_background": "light"
     },
     "output_type": "display_data"
    }
   ],
   "source": [
    "# plot again to see the gaps filled in nicely\n",
    "plt.plot(dfi[\"x\"],dfi[\"y\"],color=\"b\")\n",
    "plt.plot(dfi[\"x\"],dfi[\"z\"],color=\"r\")\n",
    "plt.xlabel(\"Pi\")\n",
    "plt.ylabel(\"Sin & Cos\")\n",
    "plt.title(\"Interpolated Data\")\n",
    "plt.legend([\"Sin\",\"Cos\"])"
   ]
  },
  {
   "cell_type": "markdown",
   "metadata": {},
   "source": [
    "Now try narrowing down dfi.<br>\n",
    "Select x values greater than or equal to Pi, and store in a new DataSet called df_pi.<br>\n",
    "Display the results."
   ]
  },
  {
   "cell_type": "code",
   "execution_count": 96,
   "metadata": {},
   "outputs": [
    {
     "data": {
      "text/html": [
       "<div>\n",
       "<style scoped>\n",
       "    .dataframe tbody tr th:only-of-type {\n",
       "        vertical-align: middle;\n",
       "    }\n",
       "\n",
       "    .dataframe tbody tr th {\n",
       "        vertical-align: top;\n",
       "    }\n",
       "\n",
       "    .dataframe thead th {\n",
       "        text-align: right;\n",
       "    }\n",
       "</style>\n",
       "<table border=\"1\" class=\"dataframe\">\n",
       "  <thead>\n",
       "    <tr style=\"text-align: right;\">\n",
       "      <th></th>\n",
       "      <th>x</th>\n",
       "      <th>y</th>\n",
       "      <th>z</th>\n",
       "    </tr>\n",
       "  </thead>\n",
       "  <tbody>\n",
       "    <tr>\n",
       "      <th>500</th>\n",
       "      <td>3.144737</td>\n",
       "      <td>-0.003145</td>\n",
       "      <td>-0.999995</td>\n",
       "    </tr>\n",
       "    <tr>\n",
       "      <th>501</th>\n",
       "      <td>3.151027</td>\n",
       "      <td>-0.009434</td>\n",
       "      <td>-0.999955</td>\n",
       "    </tr>\n",
       "    <tr>\n",
       "      <th>502</th>\n",
       "      <td>3.157316</td>\n",
       "      <td>-0.015723</td>\n",
       "      <td>-0.999876</td>\n",
       "    </tr>\n",
       "    <tr>\n",
       "      <th>503</th>\n",
       "      <td>3.163606</td>\n",
       "      <td>-0.022011</td>\n",
       "      <td>-0.999758</td>\n",
       "    </tr>\n",
       "    <tr>\n",
       "      <th>504</th>\n",
       "      <td>3.169895</td>\n",
       "      <td>-0.028299</td>\n",
       "      <td>-0.999600</td>\n",
       "    </tr>\n",
       "    <tr>\n",
       "      <th>...</th>\n",
       "      <td>...</td>\n",
       "      <td>...</td>\n",
       "      <td>...</td>\n",
       "    </tr>\n",
       "    <tr>\n",
       "      <th>995</th>\n",
       "      <td>6.258027</td>\n",
       "      <td>-0.025155</td>\n",
       "      <td>0.999664</td>\n",
       "    </tr>\n",
       "    <tr>\n",
       "      <th>996</th>\n",
       "      <td>6.264317</td>\n",
       "      <td>-0.018867</td>\n",
       "      <td>0.999822</td>\n",
       "    </tr>\n",
       "    <tr>\n",
       "      <th>997</th>\n",
       "      <td>6.270606</td>\n",
       "      <td>-0.012579</td>\n",
       "      <td>0.999921</td>\n",
       "    </tr>\n",
       "    <tr>\n",
       "      <th>998</th>\n",
       "      <td>6.276896</td>\n",
       "      <td>-0.006289</td>\n",
       "      <td>0.999980</td>\n",
       "    </tr>\n",
       "    <tr>\n",
       "      <th>999</th>\n",
       "      <td>6.283185</td>\n",
       "      <td>-0.000000</td>\n",
       "      <td>1.000000</td>\n",
       "    </tr>\n",
       "  </tbody>\n",
       "</table>\n",
       "<p>500 rows × 3 columns</p>\n",
       "</div>"
      ],
      "text/plain": [
       "            x         y         z\n",
       "500  3.144737 -0.003145 -0.999995\n",
       "501  3.151027 -0.009434 -0.999955\n",
       "502  3.157316 -0.015723 -0.999876\n",
       "503  3.163606 -0.022011 -0.999758\n",
       "504  3.169895 -0.028299 -0.999600\n",
       "..        ...       ...       ...\n",
       "995  6.258027 -0.025155  0.999664\n",
       "996  6.264317 -0.018867  0.999822\n",
       "997  6.270606 -0.012579  0.999921\n",
       "998  6.276896 -0.006289  0.999980\n",
       "999  6.283185 -0.000000  1.000000\n",
       "\n",
       "[500 rows x 3 columns]"
      ]
     },
     "execution_count": 96,
     "metadata": {},
     "output_type": "execute_result"
    }
   ],
   "source": [
    "df_pi = dfi[(dfi[\"x\"] >= np.pi)]\n",
    "df_pi"
   ]
  },
  {
   "cell_type": "markdown",
   "metadata": {},
   "source": [
    "Run the cell below to see what df_pi looks like."
   ]
  },
  {
   "cell_type": "code",
   "execution_count": 97,
   "metadata": {},
   "outputs": [
    {
     "data": {
      "text/plain": [
       "<matplotlib.legend.Legend at 0x7f84cb47dc10>"
      ]
     },
     "execution_count": 97,
     "metadata": {},
     "output_type": "execute_result"
    },
    {
     "data": {
      "image/png": "[encoded data removed]",
      "text/plain": [
       "<Figure size 432x288 with 1 Axes>"
      ]
     },
     "metadata": {
      "needs_background": "light"
     },
     "output_type": "display_data"
    }
   ],
   "source": [
    "# plot again to see the data selection at work\n",
    "plt.plot(df_pi[\"x\"],df_pi[\"y\"],color=\"b\")\n",
    "plt.plot(df_pi[\"x\"],df_pi[\"z\"],color=\"r\")\n",
    "plt.xlabel(\"Pi\")\n",
    "plt.ylabel(\"Sin & Cos\")\n",
    "plt.title(\"Pi to 2Pi\")\n",
    "plt.legend([\"Sin\",\"Cos\"])"
   ]
  },
  {
   "cell_type": "code",
   "execution_count": null,
   "metadata": {},
   "outputs": [],
   "source": []
  }
 ],
 "metadata": {
  "kernelspec": {
   "display_name": "Python 3",
   "language": "python",
   "name": "python3"
  },
  "language_info": {
   "codemirror_mode": {
    "name": "ipython",
    "version": 3
   },
   "file_extension": ".py",
   "mimetype": "text/x-python",
   "name": "python",
   "nbconvert_exporter": "python",
   "pygments_lexer": "ipython3",
   "version": "3.8.3"
  }
 },
 "nbformat": 4,
 "nbformat_minor": 2
}
