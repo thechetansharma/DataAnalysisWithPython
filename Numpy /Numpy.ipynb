{
 "cells": [
  {
   "cell_type": "markdown",
   "metadata": {},
   "source": [
    "Import the numpy module"
   ]
  },
  {
   "cell_type": "code",
   "execution_count": 1,
   "metadata": {},
   "outputs": [],
   "source": [
    "import numpy as np"
   ]
  },
  {
   "cell_type": "markdown",
   "metadata": {},
   "source": [
    "Create a 1d numpy array called arr1 that looks like the one below. Display it."
   ]
  },
  {
   "cell_type": "code",
   "execution_count": 8,
   "metadata": {},
   "outputs": [
    {
     "data": {
      "text/plain": [
       "array([ 3,  6,  9, 12, 15])"
      ]
     },
     "execution_count": 8,
     "metadata": {},
     "output_type": "execute_result"
    }
   ],
   "source": [
    "list = [ 3,  6,  9, 12, 15]\n",
    "arr1 = np.array(list)\n",
    "arr1"
   ]
  },
  {
   "cell_type": "markdown",
   "metadata": {},
   "source": [
    "Print out the 3rd element of the array."
   ]
  },
  {
   "cell_type": "code",
   "execution_count": 6,
   "metadata": {},
   "outputs": [
    {
     "data": {
      "text/plain": [
       "9"
      ]
     },
     "execution_count": 6,
     "metadata": {},
     "output_type": "execute_result"
    }
   ],
   "source": [
    "arr1[2]"
   ]
  },
  {
   "cell_type": "markdown",
   "metadata": {},
   "source": [
    "Create a 2d numpy array called arr2 that looks like the one below. Display it."
   ]
  },
  {
   "cell_type": "code",
   "execution_count": 9,
   "metadata": {},
   "outputs": [
    {
     "data": {
      "text/plain": [
       "array([[ 2,  4,  6],\n",
       "       [ 3,  6,  9],\n",
       "       [ 4,  8, 12]])"
      ]
     },
     "execution_count": 9,
     "metadata": {},
     "output_type": "execute_result"
    }
   ],
   "source": [
    "list = [[ 2,  4,  6],[ 3,  6,  9],[ 4,  8, 12]]\n",
    "arr2 = np.array(list)\n",
    "arr2"
   ]
  },
  {
   "cell_type": "markdown",
   "metadata": {},
   "source": [
    "Print out the element at row=3,col=2."
   ]
  },
  {
   "cell_type": "code",
   "execution_count": 12,
   "metadata": {},
   "outputs": [
    {
     "data": {
      "text/plain": [
       "8"
      ]
     },
     "execution_count": 12,
     "metadata": {},
     "output_type": "execute_result"
    }
   ],
   "source": [
    "arr2[2][1]"
   ]
  },
  {
   "cell_type": "markdown",
   "metadata": {},
   "source": [
    "Create an array that goes from 0 to 100 with step=3. Display it."
   ]
  },
  {
   "cell_type": "code",
   "execution_count": 15,
   "metadata": {},
   "outputs": [
    {
     "data": {
      "text/plain": [
       "array([ 0,  3,  6,  9, 12, 15, 18, 21, 24, 27, 30, 33, 36, 39, 42, 45, 48,\n",
       "       51, 54, 57, 60, 63, 66, 69, 72, 75, 78, 81, 84, 87, 90, 93, 96, 99])"
      ]
     },
     "execution_count": 15,
     "metadata": {},
     "output_type": "execute_result"
    }
   ],
   "source": [
    "np.arange(0,100,3)"
   ]
  },
  {
   "cell_type": "markdown",
   "metadata": {},
   "source": [
    "Create a 10x5 2d array filled with zeroes. Display it."
   ]
  },
  {
   "cell_type": "code",
   "execution_count": 18,
   "metadata": {},
   "outputs": [
    {
     "data": {
      "text/plain": [
       "array([[0., 0., 0., 0., 0.],\n",
       "       [0., 0., 0., 0., 0.],\n",
       "       [0., 0., 0., 0., 0.],\n",
       "       [0., 0., 0., 0., 0.],\n",
       "       [0., 0., 0., 0., 0.],\n",
       "       [0., 0., 0., 0., 0.],\n",
       "       [0., 0., 0., 0., 0.],\n",
       "       [0., 0., 0., 0., 0.],\n",
       "       [0., 0., 0., 0., 0.],\n",
       "       [0., 0., 0., 0., 0.]])"
      ]
     },
     "execution_count": 18,
     "metadata": {},
     "output_type": "execute_result"
    }
   ],
   "source": [
    "np.zeros((10,5))"
   ]
  },
  {
   "cell_type": "markdown",
   "metadata": {},
   "source": [
    "Create an array called lin1d, that has 100 data points spaced between 57 and 108. Display it."
   ]
  },
  {
   "cell_type": "code",
   "execution_count": 22,
   "metadata": {},
   "outputs": [
    {
     "data": {
      "text/plain": [
       "array([ 57.        ,  57.51515152,  58.03030303,  58.54545455,\n",
       "        59.06060606,  59.57575758,  60.09090909,  60.60606061,\n",
       "        61.12121212,  61.63636364,  62.15151515,  62.66666667,\n",
       "        63.18181818,  63.6969697 ,  64.21212121,  64.72727273,\n",
       "        65.24242424,  65.75757576,  66.27272727,  66.78787879,\n",
       "        67.3030303 ,  67.81818182,  68.33333333,  68.84848485,\n",
       "        69.36363636,  69.87878788,  70.39393939,  70.90909091,\n",
       "        71.42424242,  71.93939394,  72.45454545,  72.96969697,\n",
       "        73.48484848,  74.        ,  74.51515152,  75.03030303,\n",
       "        75.54545455,  76.06060606,  76.57575758,  77.09090909,\n",
       "        77.60606061,  78.12121212,  78.63636364,  79.15151515,\n",
       "        79.66666667,  80.18181818,  80.6969697 ,  81.21212121,\n",
       "        81.72727273,  82.24242424,  82.75757576,  83.27272727,\n",
       "        83.78787879,  84.3030303 ,  84.81818182,  85.33333333,\n",
       "        85.84848485,  86.36363636,  86.87878788,  87.39393939,\n",
       "        87.90909091,  88.42424242,  88.93939394,  89.45454545,\n",
       "        89.96969697,  90.48484848,  91.        ,  91.51515152,\n",
       "        92.03030303,  92.54545455,  93.06060606,  93.57575758,\n",
       "        94.09090909,  94.60606061,  95.12121212,  95.63636364,\n",
       "        96.15151515,  96.66666667,  97.18181818,  97.6969697 ,\n",
       "        98.21212121,  98.72727273,  99.24242424,  99.75757576,\n",
       "       100.27272727, 100.78787879, 101.3030303 , 101.81818182,\n",
       "       102.33333333, 102.84848485, 103.36363636, 103.87878788,\n",
       "       104.39393939, 104.90909091, 105.42424242, 105.93939394,\n",
       "       106.45454545, 106.96969697, 107.48484848, 108.        ])"
      ]
     },
     "execution_count": 22,
     "metadata": {},
     "output_type": "execute_result"
    }
   ],
   "source": [
    "lin1d = np.linspace(57,108,100)\n",
    "lin1d"
   ]
  },
  {
   "cell_type": "markdown",
   "metadata": {},
   "source": [
    "Reshape lin1d to be 10x10 and call it lin2d. Display it."
   ]
  },
  {
   "cell_type": "code",
   "execution_count": 25,
   "metadata": {},
   "outputs": [
    {
     "data": {
      "text/plain": [
       "array([[ 57.        ,  57.51515152,  58.03030303,  58.54545455,\n",
       "         59.06060606,  59.57575758,  60.09090909,  60.60606061,\n",
       "         61.12121212,  61.63636364],\n",
       "       [ 62.15151515,  62.66666667,  63.18181818,  63.6969697 ,\n",
       "         64.21212121,  64.72727273,  65.24242424,  65.75757576,\n",
       "         66.27272727,  66.78787879],\n",
       "       [ 67.3030303 ,  67.81818182,  68.33333333,  68.84848485,\n",
       "         69.36363636,  69.87878788,  70.39393939,  70.90909091,\n",
       "         71.42424242,  71.93939394],\n",
       "       [ 72.45454545,  72.96969697,  73.48484848,  74.        ,\n",
       "         74.51515152,  75.03030303,  75.54545455,  76.06060606,\n",
       "         76.57575758,  77.09090909],\n",
       "       [ 77.60606061,  78.12121212,  78.63636364,  79.15151515,\n",
       "         79.66666667,  80.18181818,  80.6969697 ,  81.21212121,\n",
       "         81.72727273,  82.24242424],\n",
       "       [ 82.75757576,  83.27272727,  83.78787879,  84.3030303 ,\n",
       "         84.81818182,  85.33333333,  85.84848485,  86.36363636,\n",
       "         86.87878788,  87.39393939],\n",
       "       [ 87.90909091,  88.42424242,  88.93939394,  89.45454545,\n",
       "         89.96969697,  90.48484848,  91.        ,  91.51515152,\n",
       "         92.03030303,  92.54545455],\n",
       "       [ 93.06060606,  93.57575758,  94.09090909,  94.60606061,\n",
       "         95.12121212,  95.63636364,  96.15151515,  96.66666667,\n",
       "         97.18181818,  97.6969697 ],\n",
       "       [ 98.21212121,  98.72727273,  99.24242424,  99.75757576,\n",
       "        100.27272727, 100.78787879, 101.3030303 , 101.81818182,\n",
       "        102.33333333, 102.84848485],\n",
       "       [103.36363636, 103.87878788, 104.39393939, 104.90909091,\n",
       "        105.42424242, 105.93939394, 106.45454545, 106.96969697,\n",
       "        107.48484848, 108.        ]])"
      ]
     },
     "execution_count": 25,
     "metadata": {},
     "output_type": "execute_result"
    }
   ],
   "source": [
    "lin2d = lin1d.reshape(10,10)\n",
    "lin2d"
   ]
  },
  {
   "cell_type": "markdown",
   "metadata": {},
   "source": [
    "Print out the shape of lin1d and lin2d."
   ]
  },
  {
   "cell_type": "code",
   "execution_count": 29,
   "metadata": {},
   "outputs": [
    {
     "name": "stdout",
     "output_type": "stream",
     "text": [
      "lin1d:  (100,)\n",
      "lin2d:  (10, 10)\n"
     ]
    }
   ],
   "source": [
    "print('lin1d: ',lin1d.shape)\n",
    "print('lin2d: ',lin2d.shape)"
   ]
  },
  {
   "cell_type": "markdown",
   "metadata": {},
   "source": [
    "Generate a 5x5 array of random numbers called nums. Display it."
   ]
  },
  {
   "cell_type": "code",
   "execution_count": 111,
   "metadata": {},
   "outputs": [
    {
     "data": {
      "text/plain": [
       "array([[0.19513361, 0.42733971, 0.37785202, 0.5224612 , 0.93504198],\n",
       "       [0.60698676, 0.24291678, 0.34001448, 0.6540702 , 0.42147999],\n",
       "       [0.60373909, 0.0900258 , 0.42523894, 0.01322022, 0.41622718],\n",
       "       [0.95984712, 0.41914982, 0.50678715, 0.29464479, 0.67343198],\n",
       "       [0.16343579, 0.83673798, 0.4262682 , 0.52174445, 0.72763918]])"
      ]
     },
     "execution_count": 111,
     "metadata": {},
     "output_type": "execute_result"
    }
   ],
   "source": [
    "nums = np.random.rand(5,5)\n",
    "nums"
   ]
  },
  {
   "cell_type": "markdown",
   "metadata": {},
   "source": [
    "Print out the min, max and mean of the nums array."
   ]
  },
  {
   "cell_type": "code",
   "execution_count": 112,
   "metadata": {},
   "outputs": [
    {
     "name": "stdout",
     "output_type": "stream",
     "text": [
      "Min:  0.013220217628921671\n",
      "Max:  0.9598471161112266\n",
      "Mean:  0.47205737718185864\n"
     ]
    }
   ],
   "source": [
    "print('Min: ',nums.min())\n",
    "print('Max: ',nums.max())\n",
    "print('Mean: ',nums.mean())"
   ]
  },
  {
   "cell_type": "markdown",
   "metadata": {},
   "source": [
    "Multiple the entire array nums x2 and store it back in nums. Display the result."
   ]
  },
  {
   "cell_type": "code",
   "execution_count": 113,
   "metadata": {},
   "outputs": [
    {
     "data": {
      "text/plain": [
       "array([[0.39026722, 0.85467943, 0.75570405, 1.04492239, 1.87008396],\n",
       "       [1.21397351, 0.48583356, 0.68002897, 1.30814041, 0.84295998],\n",
       "       [1.20747819, 0.18005161, 0.85047788, 0.02644044, 0.83245436],\n",
       "       [1.91969423, 0.83829964, 1.0135743 , 0.58928957, 1.34686396],\n",
       "       [0.32687158, 1.67347595, 0.85253641, 1.04348891, 1.45527837]])"
      ]
     },
     "execution_count": 113,
     "metadata": {},
     "output_type": "execute_result"
    }
   ],
   "source": [
    "nums = nums * 2\n",
    "nums"
   ]
  },
  {
   "cell_type": "markdown",
   "metadata": {},
   "source": [
    "Select rows 1 to 2 and cols 2 to 3 and display the result."
   ]
  },
  {
   "cell_type": "code",
   "execution_count": 114,
   "metadata": {},
   "outputs": [
    {
     "data": {
      "text/plain": [
       "array([[0.68002897, 1.30814041],\n",
       "       [0.85047788, 0.02644044]])"
      ]
     },
     "execution_count": 114,
     "metadata": {},
     "output_type": "execute_result"
    }
   ],
   "source": [
    "nums[1:3,2:4]"
   ]
  },
  {
   "cell_type": "markdown",
   "metadata": {},
   "source": [
    "Modify that same selection by multiplying it x10, then display the new nums array."
   ]
  },
  {
   "cell_type": "code",
   "execution_count": 115,
   "metadata": {},
   "outputs": [
    {
     "data": {
      "text/plain": [
       "array([[ 0.39026722,  0.85467943,  0.75570405,  1.04492239,  1.87008396],\n",
       "       [ 1.21397351,  0.48583356,  6.80028967, 13.0814041 ,  0.84295998],\n",
       "       [ 1.20747819,  0.18005161,  8.50477878,  0.26440435,  0.83245436],\n",
       "       [ 1.91969423,  0.83829964,  1.0135743 ,  0.58928957,  1.34686396],\n",
       "       [ 0.32687158,  1.67347595,  0.85253641,  1.04348891,  1.45527837]])"
      ]
     },
     "execution_count": 115,
     "metadata": {},
     "output_type": "execute_result"
    }
   ],
   "source": [
    "nums[1:3,2:4] *= 10\n",
    "nums"
   ]
  },
  {
   "cell_type": "code",
   "execution_count": null,
   "metadata": {},
   "outputs": [],
   "source": []
  }
 ],
 "metadata": {
  "kernelspec": {
   "display_name": "Python 3",
   "language": "python",
   "name": "python3"
  },
  "language_info": {
   "codemirror_mode": {
    "name": "ipython",
    "version": 3
   },
   "file_extension": ".py",
   "mimetype": "text/x-python",
   "name": "python",
   "nbconvert_exporter": "python",
   "pygments_lexer": "ipython3",
   "version": "3.8.3"
  }
 },
 "nbformat": 4,
 "nbformat_minor": 2
}
